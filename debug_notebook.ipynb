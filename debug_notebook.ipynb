{
  "cells": [
    {
      "cell_type": "markdown",
      "metadata": {},
      "source": [
        "# Debug Notebook Demo\n\nThis notebook is for practicing VS Code's Jupyter debugging (Debug Cell / Run by Line)."
      ]
    },
    {
      "cell_type": "code",
      "execution_count": null,
      "metadata": {},
      "outputs": [],
      "source": [
        "def compute_ratio(a, b):\n",
        "    return a / b  # Put a breakpoint here, b can be 0\n"
      ]
    },
    {
      "cell_type": "code",
      "execution_count": null,
      "metadata": {},
      "outputs": [],
      "source": [
        "values = [1, 2, 3, 0, 4]\n",
        "total = 0\n",
        "for v in values:\n",
        "    # Set a conditional breakpoint here with expression: v == 0\n",
        "    total += compute_ratio(10, v)\n",
        "total\n"
      ]
    }
  ],
  "metadata": {
    "kernelspec": {
      "display_name": "Python 3.12",
      "language": "python",
      "name": "python3"
    },
    "language_info": {
      "name": "python",
      "version": "3.12"
    }
  },
  "nbformat": 4,
  "nbformat_minor": 5
}