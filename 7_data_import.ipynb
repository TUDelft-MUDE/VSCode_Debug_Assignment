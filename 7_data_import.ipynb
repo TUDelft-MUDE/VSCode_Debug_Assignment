{
 "cells": [
  {
   "cell_type": "markdown",
   "id": "126838f6",
   "metadata": {},
   "source": [
    "# File import"
   ]
  },
  {
   "cell_type": "code",
   "execution_count": null,
   "id": "5f5b75ad-3863-47e4-813c-a3aa58fc3d07",
   "metadata": {},
   "outputs": [],
   "source": [
    "import numpy as np\n",
    "import pandas as pd\n",
    "import matplotlib.pyplot as plt\n",
    "import os\n",
    "from urllib.request import urlretrieve\n",
    "plt.rcParams.update({'font.size': 14})"
   ]
  },
  {
   "cell_type": "markdown",
   "id": "a37164c2-d97f-4770-bec1-fea0ae2b53d3",
   "metadata": {},
   "source": [
    "## Part 0: Download and  Import and Interpret the Data Set"
   ]
  },
  {
   "cell_type": "markdown",
   "id": "ae6ab8e7-6a60-48cb-96d1-349d2453ed6b",
   "metadata": {},
   "source": [
    "<div style=\"background-color:#AABAB2; color: black; width:90%; vertical-align: middle; padding:15px; margin: 10px; border-radius: 10px\">\n",
    "<p>\n",
    "\n",
    "$\\text{Task 7.1:}$\n",
    "    \n",
    "Complete the code cell below to import the data. Use the commented lines of code to interpret the contents.\n",
    "</p>\n",
    "</div>"
   ]
  },
  {
   "cell_type": "code",
   "execution_count": null,
   "id": "425e41e9",
   "metadata": {},
   "outputs": [],
   "source": [
    "def findfile(fname):\n",
    "    if not os.path.isfile(fname):\n",
    "        print(f\"Downloading {fname}...\")\n",
    "        urlretrieve('http://files.mude.citg.tudelft.nl/'+fname, fname)\n",
    "\n",
    "findfile('chla.csv')"
   ]
  },
  {
   "cell_type": "code",
   "execution_count": null,
   "id": "584b64a2",
   "metadata": {
    "tags": [
     "assignment"
    ]
   },
   "outputs": [],
   "source": [
    "h = pd.read_csv(YOUR_CODE_HERE, delimiter=',', header=1)\n",
    "\n",
    "h.columns=['Date', 'Chlfa']\n",
    "h.head()"
   ]
  },
  {
   "cell_type": "code",
   "execution_count": null,
   "id": "0f9f9042",
   "metadata": {
    "tags": [
     "solution"
    ]
   },
   "outputs": [],
   "source": [
    "h = pd.read_csv('chla.csv', delimiter=',', header=1)\n",
    "\n",
    "h.columns=['Date', 'Chlfa']\n",
    "h.head()"
   ]
  },
  {
   "cell_type": "markdown",
   "id": "326c0e1f-59dd-4f38-8f97-e6e80cb8b2e5",
   "metadata": {},
   "source": [
    "Unfortunately we can't create a plot to visualize the data with the `Date` information because `matplotlib` doesn't know how to interpret the value as it's stored as text."
   ]
  },
  {
   "cell_type": "markdown",
   "id": "5f78ecde-7d7f-4472-81c1-74d2bca76ffd",
   "metadata": {},
   "source": [
    "## Part 1: Use Pandas to Plot the Time Series with `datetime`\n",
    "\n",
    "The Pandas method is `datetime`, which converts the object type from a generic (un-usable-for-plotting) data type ito a `datetime` type. A full explanation of this is outside the scope of MUDE, so we simply illustrate it below. For our purposes, note that:\n",
    "- the `datetime` object created by `to_datetime` is a significant improvement on the standard Python functionality\n",
    "- Pandas provides a _lot_ of methods that can use it (we only scratch the surface here)\n",
    "- to learn more, if you are interested, there is plenty available online, like the tutorial [here](https://www.dataquest.io/blog/datetime-in-pandas/)\n"
   ]
  },
  {
   "cell_type": "markdown",
   "id": "d9f4108a-4f9d-4040-b95d-36047652295d",
   "metadata": {},
   "source": [
    "<div style=\"background-color:#AABAB2; color: black; width: 95%; vertical-align: middle; padding:15px; margin: 10px; border-radius: 10px\">\n",
    "<p>\n",
    "\n",
    "$\\text{Task 7.2:}$   \n",
    "    \n",
    "Study the code cell below to see how to create a <code>datetime</code> object. Note in particular the <code>dtype</code> printed in the Pandas output, indicating the method was successful.\n",
    "</p>\n",
    "</div>"
   ]
  },
  {
   "cell_type": "code",
   "execution_count": null,
   "id": "20384e98-5323-407d-8589-52dadc4ceb82",
   "metadata": {
    "tags": []
   },
   "outputs": [],
   "source": [
    "h['Date'] = pd.to_datetime(h['Date'], format='%m/%d/%y %H:%M')\n",
    "h['Date']"
   ]
  },
  {
   "cell_type": "markdown",
   "id": "d74fc07e-9d58-44c4-bb57-ffc03245a81e",
   "metadata": {},
   "source": [
    "<div style=\"background-color:#AABAB2; color: black; width: 95%; vertical-align: middle; padding:15px; margin: 10px; border-radius: 10px\">\n",
    "<p>\n",
    "\n",
    "$\\text{Task 7.3:}$  \n",
    "    \n",
    "Now you can run the cell below to visualize the data!\n",
    "</p>\n",
    "</div>"
   ]
  },
  {
   "cell_type": "code",
   "execution_count": null,
   "id": "ff51bc6c-df16-41f3-91d8-4d85e51c5a34",
   "metadata": {
    "tags": []
   },
   "outputs": [],
   "source": [
    "plt.figure(figsize=(10, 6))\n",
    "plt.plot(h['Date'], h['Chlfa'],'k.')\n",
    "plt.xlabel('Date')\n",
    "plt.ylabel('Concentrations [mg/m3]')\n",
    "plt.grid()\n",
    "plt.title('Concentrations of chlorophyll');"
   ]
  },
  {
   "cell_type": "markdown",
   "id": "9080e72d",
   "metadata": {},
   "source": [
    "> By Tom van Woudenberg and Robert Lanzafame, Delft University of Technology. CC BY 4.0, more info [on the Credits page of Workbook](https://mude.citg.tudelft.nl/workbook-2025/credits.html)."
   ]
  }
 ],
 "metadata": {
  "kernelspec": {
   "display_name": "mude-base",
   "language": "python",
   "name": "python3"
  },
  "language_info": {
   "codemirror_mode": {
    "name": "ipython",
    "version": 3
   },
   "file_extension": ".py",
   "mimetype": "text/x-python",
   "name": "python",
   "nbconvert_exporter": "python",
   "pygments_lexer": "ipython3",
   "version": "3.12.11"
  },
  "widgets": {
   "application/vnd.jupyter.widget-state+json": {
    "state": {},
    "version_major": 2,
    "version_minor": 0
   }
  }
 },
 "nbformat": 4,
 "nbformat_minor": 5
}
